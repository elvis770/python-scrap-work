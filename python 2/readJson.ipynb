{
 "cells": [
  {
   "cell_type": "code",
   "execution_count": 6,
   "metadata": {},
   "outputs": [
    {
     "name": "stdout",
     "output_type": "stream",
     "text": [
      "   value startTimeMillis  endTimeMillis             startTime  \\\n",
      "0   1452   1695194651520  1695281051520  20 Sep 2023 07:24 am   \n",
      "1   1626   1695281051520  1695367451520  21 Sep 2023 07:24 am   \n",
      "2   1596   1695367451520  1695453851520  22 Sep 2023 07:24 am   \n",
      "3   1535   1695453851520  1695540251520  23 Sep 2023 07:24 am   \n",
      "4   1547   1695540251520  1695626651520  24 Sep 2023 07:24 am   \n",
      "5   1149   1695626651520  1695686401000  25 Sep 2023 07:24 am   \n",
      "\n",
      "                endTime  \n",
      "0  21 Sep 2023 07:24 am  \n",
      "1  22 Sep 2023 07:24 am  \n",
      "2  23 Sep 2023 07:24 am  \n",
      "3  24 Sep 2023 07:24 am  \n",
      "4  25 Sep 2023 07:24 am  \n",
      "5  26 Sep 2023 12:00 am  \n"
     ]
    },
    {
     "ename": "TypeError",
     "evalue": "object of type '_io.TextIOWrapper' has no len()",
     "output_type": "error",
     "traceback": [
      "\u001b[0;31m---------------------------------------------------------------------------\u001b[0m",
      "\u001b[0;31mTypeError\u001b[0m                                 Traceback (most recent call last)",
      "\u001b[1;32m/Users/elvisechefu/Desktop/python 2/Untitled-1.ipynb Cell 1\u001b[0m line \u001b[0;36m1\n\u001b[1;32m     <a href='vscode-notebook-cell:/Users/elvisechefu/Desktop/python%202/Untitled-1.ipynb#W0sZmlsZQ%3D%3D?line=14'>15</a>\u001b[0m \u001b[39mprint\u001b[39m(df)\n\u001b[1;32m     <a href='vscode-notebook-cell:/Users/elvisechefu/Desktop/python%202/Untitled-1.ipynb#W0sZmlsZQ%3D%3D?line=16'>17</a>\u001b[0m \u001b[39m# Calculate the middle row and middle column\u001b[39;00m\n\u001b[0;32m---> <a href='vscode-notebook-cell:/Users/elvisechefu/Desktop/python%202/Untitled-1.ipynb#W0sZmlsZQ%3D%3D?line=17'>18</a>\u001b[0m num_rows \u001b[39m=\u001b[39m \u001b[39mlen\u001b[39;49m(json_data)\n\u001b[1;32m     <a href='vscode-notebook-cell:/Users/elvisechefu/Desktop/python%202/Untitled-1.ipynb#W0sZmlsZQ%3D%3D?line=18'>19</a>\u001b[0m num_columns \u001b[39m=\u001b[39m \u001b[39mlen\u001b[39m(json_data[\u001b[39m0\u001b[39m])\n\u001b[1;32m     <a href='vscode-notebook-cell:/Users/elvisechefu/Desktop/python%202/Untitled-1.ipynb#W0sZmlsZQ%3D%3D?line=19'>20</a>\u001b[0m middle_row \u001b[39m=\u001b[39m num_rows \u001b[39m/\u001b[39m\u001b[39m/\u001b[39m \u001b[39m2\u001b[39m\n",
      "\u001b[0;31mTypeError\u001b[0m: object of type '_io.TextIOWrapper' has no len()"
     ]
    }
   ],
   "source": [
    "import pandas as pd\n",
    "import matplotlib.pyplot as plt\n",
    "import json\n",
    "\n",
    "json_file = '/Users/elvisechefu/Desktop/python 2/data.json'\n",
    "\n",
    "\n",
    "\n",
    "with open('data.json') as json_data:\n",
    "    data =json.load(json_data)\n",
    "    df = pd.DataFrame(data['calories_expended'])\n",
    "\n",
    "\n",
    "\n",
    "print(df)\n",
    "\n",
    "# Calculate the middle row and middle column\n",
    "num_rows = len(json_data)\n",
    "num_columns = len(json_data[0])\n",
    "middle_row = num_rows // 2\n",
    "middle_column = num_columns // 2\n",
    "\n",
    "# Check if the dimensions are even\n",
    "if num_rows % 2 == 0 or num_columns % 2 == 0:\n",
    "    print(\"The dimensions are not odd; there is no single middle element.\")\n",
    "else:\n",
    "    # Print the middle data\n",
    "    middle_data = json_data[middle_row][middle_column]\n",
    "    print(f\"Middle Data (Row {middle_row}, Column {middle_column}): {middle_data}\")"
   ]
  }
 ],
 "metadata": {
  "kernelspec": {
   "display_name": "Python 3",
   "language": "python",
   "name": "python3"
  },
  "language_info": {
   "codemirror_mode": {
    "name": "ipython",
    "version": 3
   },
   "file_extension": ".py",
   "mimetype": "text/x-python",
   "name": "python",
   "nbconvert_exporter": "python",
   "pygments_lexer": "ipython3",
   "version": "3.11.5"
  },
  "orig_nbformat": 4
 },
 "nbformat": 4,
 "nbformat_minor": 2
}
