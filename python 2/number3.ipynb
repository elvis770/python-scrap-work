{
 "cells": [
  {
   "cell_type": "code",
   "execution_count": 7,
   "metadata": {},
   "outputs": [
    {
     "name": "stdout",
     "output_type": "stream",
     "text": [
      "An error occurred: All arrays must be of the same length\n"
     ]
    }
   ],
   "source": [
    "import requests\n",
    "import pandas as pd\n",
    "\n",
    "# Define the API URL\n",
    "api_url = \"https://v1.nocodeapi.com/elvis770/fit/cEIKYYABkRXhFmiE/aggregatesDatasets?dataTypeName=calories_expended,heart_minutes,active_minutes,steps_count&timePeriod=30days\"\n",
    "\n",
    "try:\n",
    "    # Make an HTTP GET request to the API\n",
    "    response = requests.get(api_url)\n",
    "\n",
    "    # Check if the request was successful (status code 200)\n",
    "    if response.status_code == 200:\n",
    "        # Parse the JSON response\n",
    "        data = response.json()\n",
    "\n",
    "        # Convert the data into a Pandas DataFrame\n",
    "        df = pd.DataFrame(data)\n",
    "\n",
    "        # Transpose the DataFrame (rows become columns and vice versa)\n",
    "        df = df.T\n",
    "\n",
    "        # Rename the columns to represent the data types\n",
    "        df.columns = [\"calories_expended\", \"heart_minutes\", \"active_minutes\", \"steps_count\"]\n",
    "\n",
    "        # Create a new DataFrame to store data in sets of 5 days per row\n",
    "        rows, cols = df.shape\n",
    "        num_sets = rows // 5\n",
    "        grouped_df = pd.DataFrame(columns=df.columns)\n",
    "\n",
    "        # Group the data into sets of 5 days per row\n",
    "        for i in range(num_sets):\n",
    "            start_index = i * 5\n",
    "            end_index = start_index + 5\n",
    "            subset_df = df.iloc[start_index:end_index]\n",
    "            grouped_df.loc[i] = subset_df.mean()\n",
    "\n",
    "        # Print the grouped data\n",
    "        print(\"Data grouped in sets of 5 days per row:\")\n",
    "        print(grouped_df)\n",
    "\n",
    "    else:\n",
    "        print(f\"Error: HTTP status code {response.status_code}\")\n",
    "\n",
    "except Exception as e:\n",
    "    print(f\"An error occurred: {e}\")\n"
   ]
  }
 ],
 "metadata": {
  "kernelspec": {
   "display_name": "Python 3",
   "language": "python",
   "name": "python3"
  },
  "language_info": {
   "codemirror_mode": {
    "name": "ipython",
    "version": 3
   },
   "file_extension": ".py",
   "mimetype": "text/x-python",
   "name": "python",
   "nbconvert_exporter": "python",
   "pygments_lexer": "ipython3",
   "version": "3.11.5"
  },
  "orig_nbformat": 4
 },
 "nbformat": 4,
 "nbformat_minor": 2
}
